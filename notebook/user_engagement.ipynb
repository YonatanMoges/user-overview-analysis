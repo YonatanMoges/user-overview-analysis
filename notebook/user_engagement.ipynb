{
 "cells": [
  {
   "cell_type": "code",
   "execution_count": null,
   "metadata": {},
   "outputs": [],
   "source": [
    "\n",
    "\n",
    "import numpy as np\n",
    "import pandas as pd\n",
    "import seaborn as sns\n",
    "import plotly.io as pio\n",
    "import plotly.express as px\n",
    "import plotly. graph_objects as go\n",
    "import matplotlib.pyplot as plt\n",
    "from sklearn import preprocessing \n",
    "from sklearn.cluster import KMeans\n",
    "from plotly.subplots import make_subplots\n",
    "from sklearn.preprocessing import StandardScaler, normalize\n",
    "\n",
    "import sys\n",
    "import os\n",
    "sys.path.insert(0,os.path.abspath('../scripts'))\n",
    "\n",
    "import functions as fn\n",
    "import importlib\n",
    "importlib.reload(fn)\n",
    "\n"
   ]
  },
  {
   "cell_type": "code",
   "execution_count": null,
   "metadata": {},
   "outputs": [],
   "source": [
    "cleaned_data = pd.read_csv('../data/clean_telecom_data.csv')\n",
    "cleaned_data.info()"
   ]
  },
  {
   "cell_type": "code",
   "execution_count": null,
   "metadata": {},
   "outputs": [],
   "source": [
    "user_engagement_df = cleaned_data[['MSISDN_Number', 'Bearer_Id', 'Dur._(ms)', 'Total_Data_(Bytes)']].copy().rename(columns={\n",
    "    'Bearer_Id': 'Session_Frequency', 'MSISDN_Number':'Customer_Id', 'Dur._(ms)': 'Duration', 'Total_Data_(Bytes)': 'Total_Data_Volume'})"
   ]
  },
  {
   "cell_type": "code",
   "execution_count": null,
   "metadata": {},
   "outputs": [],
   "source": [
    "#Aggregating Session_Frequency,Duration and Total_Data_Volume per Customer_Id and Displaying top 10 \n",
    "user_engagement = user_engagement_df.groupby('Customer_Id').agg({'Session_Frequency': 'count', 'Duration': 'sum', 'Total_Data_Volume': 'sum'})\n",
    "user_engagement.head(10)"
   ]
  },
  {
   "cell_type": "code",
   "execution_count": null,
   "metadata": {},
   "outputs": [],
   "source": [
    "#Displaying top 10  customer engagement\n",
    "sessions = user_engagement.nlargest(10, \"Session_Frequency\")['Session_Frequency']\n",
    "duration = user_engagement.nlargest(10, \"Duration\")['Duration']\n",
    "total_data_volume = user_engagement.nlargest(10, \"Total_Data_Volume\")['Total_Data_Volume']\n",
    "\n",
    "functions.mult_hist([sessions, duration, total_data_volume], 1,\n",
    "          3, \"User Metrix\", ['Session Frequency', 'Duration', 'Total Data Volume'])"
   ]
  },
  {
   "cell_type": "code",
   "execution_count": null,
   "metadata": {},
   "outputs": [],
   "source": [
    "# Check for outliers \n",
    "\n",
    "user_engagement.boxplot()"
   ]
  },
  {
   "cell_type": "code",
   "execution_count": null,
   "metadata": {},
   "outputs": [],
   "source": [
    "#Normalize the Engagement Metrics\n",
    "scaler = StandardScaler()\n",
    "scaled_array = scaler.fit_transform(user_engagement)\n",
    "pd.DataFrame(scaled_array).head(5)"
   ]
  },
  {
   "cell_type": "code",
   "execution_count": null,
   "metadata": {},
   "outputs": [],
   "source": [
    "data_normalized = normalize(scaled_array)\n",
    "pd.DataFrame(data_normalized).head(5)"
   ]
  },
  {
   "cell_type": "code",
   "execution_count": null,
   "metadata": {},
   "outputs": [],
   "source": [
    "# K=3 to classify customers \n",
    "kmeans = KMeans(n_clusters=3, random_state=0).fit(data_normalized)\n",
    "kmeans.labels_"
   ]
  },
  {
   "cell_type": "code",
   "execution_count": null,
   "metadata": {},
   "outputs": [],
   "source": [
    "user_engagement.insert(0, 'Cluster', kmeans.labels_)\n",
    "user_engagement.head(5)"
   ]
  },
  {
   "cell_type": "code",
   "execution_count": null,
   "metadata": {},
   "outputs": [],
   "source": [
    "user_engagement['Cluster'].value_counts()"
   ]
  },
  {
   "cell_type": "code",
   "execution_count": null,
   "metadata": {},
   "outputs": [],
   "source": [
    "from IPython.display import Image\n",
    "fig = px.scatter(user_engagement, x='Total_Data_Volume', y=\"Duration\", color='Cluster', size='Session_Frequency')\n",
    "Image(pio.to_image(fig, format='png', width=1200))"
   ]
  },
  {
   "cell_type": "code",
   "execution_count": null,
   "metadata": {},
   "outputs": [],
   "source": [
    "#Compute the minimum, maximum, average & total non-normalized metrics for each cluster. \n",
    "\n",
    "cluster1 = user_engagement[user_engagement[\"Cluster\"]==0]\n",
    "cluster1.describe()"
   ]
  },
  {
   "cell_type": "code",
   "execution_count": null,
   "metadata": {},
   "outputs": [],
   "source": [
    "cluster1 = user_engagement[user_engagement[\"Cluster\"]==1]\n",
    "cluster1.describe()"
   ]
  },
  {
   "cell_type": "code",
   "execution_count": null,
   "metadata": {},
   "outputs": [],
   "source": [
    "cluster1 = user_engagement[user_engagement[\"Cluster\"]==2]\n",
    "cluster1.describe()"
   ]
  },
  {
   "cell_type": "code",
   "execution_count": null,
   "metadata": {},
   "outputs": [],
   "source": [
    "#Aggregate user total traffic per application and derive the top 10 most engaged users per application\n",
    "app_df = cleaned_data.groupby('MSISDN_Number').agg({'Gaming_(Bytes)': 'sum', 'Youtube_(Bytes)': 'sum', 'Netflix_(Bytes)': 'sum',\\\n",
    "                     'Google_(Bytes)': 'sum', 'Email_(Bytes)': 'sum', 'Social_Media_(Bytes)': 'sum', 'Other_(Bytes)': 'sum'})\n",
    "app_df.head()"
   ]
  },
  {
   "cell_type": "code",
   "execution_count": null,
   "metadata": {},
   "outputs": [],
   "source": [
    "gaming = app_df.nlargest(10, \"Gaming_(Bytes)\")['Gaming_(Bytes)']\n",
    "youtube = app_df.nlargest(10, \"Youtube_(Bytes)\")['Youtube_(Bytes)']\n",
    "netflix = app_df.nlargest(10, \"Netflix_(Bytes)\")['Netflix_(Bytes)']\n",
    "google = app_df.nlargest(10, \"Google_(Bytes)\")['Google_(Bytes)']\n",
    "email = app_df.nlargest(10, \"Email_(Bytes)\")['Email_(Bytes)']\n",
    "social_media = app_df.nlargest(10, \"Social_Media_(Bytes)\")['Social_Media_(Bytes)']\n",
    "other = app_df.nlargest(10, \"Other_(Bytes)\")['Other_(Bytes)']\n",
    "\n",
    "\n",
    "functions.mult_hist([gaming, youtube, netflix], 1,\n",
    "          3, \"User metrix\", [\"Gaming_(Bytes)\", \"youtube\", \"netflix\"])\n",
    "\n",
    "#plots.mult_hist([google, email, social_media, other], 1,\n",
    "        #  4, \"User Metrics\", [ \"Google\", \"Email\", \"Social Media\", \"Other\"])"
   ]
  },
  {
   "cell_type": "code",
   "execution_count": null,
   "metadata": {},
   "outputs": [],
   "source": [
    "functions.mult_hist([google, email, social_media, other], 1,\n",
    "         4, \"User Metrics\", [ \"Google\", \"Email\", \"Social Media\", \"Other\"])"
   ]
  },
  {
   "cell_type": "code",
   "execution_count": null,
   "metadata": {},
   "outputs": [],
   "source": [
    "top_3 = app_df.sum()\n",
    "top_3"
   ]
  },
  {
   "cell_type": "code",
   "execution_count": null,
   "metadata": {},
   "outputs": [],
   "source": [
    "plots.plot_bar(top_3.nlargest(3), \"Top 3 most used Applications\", \"Applications\", \"Sum of Top 3 Users\")"
   ]
  },
  {
   "cell_type": "code",
   "execution_count": null,
   "metadata": {},
   "outputs": [],
   "source": [
    "\n",
    "from scipy.spatial.distance import cdist\n",
    "def choose_kmeans(df: pd.DataFrame, num: int):\n",
    "  distortions = []\n",
    "  inertias = []\n",
    "  K = range(1, num)\n",
    "  for k in K:\n",
    "    kmeans = KMeans(n_clusters=k, random_state=0).fit(df)\n",
    "    distortions.append(sum(\n",
    "        np.min(cdist(df, kmeans.cluster_centers_, 'euclidean'), axis=1)) / df.shape[0])\n",
    "    inertias.append(kmeans.inertia_)\n",
    "\n",
    "\n",
    "  return (distortions, inertias)"
   ]
  },
  {
   "cell_type": "code",
   "execution_count": null,
   "metadata": {},
   "outputs": [],
   "source": [
    "distortions, inertias = choose_kmeans(data_normalized, 15)"
   ]
  },
  {
   "cell_type": "code",
   "execution_count": null,
   "metadata": {},
   "outputs": [],
   "source": [
    "fig = make_subplots(\n",
    "    rows=1, cols=2, subplot_titles=(\"Distortion\", \"Inertia\")\n",
    ")\n",
    "fig.add_trace(go.Scatter(x=np.array(range(1, 15)), y=distortions), row=1, col=1)\n",
    "fig.add_trace(go.Scatter(x=np.array(range(1, 15)), y=inertias), row=1, col=2)\n",
    "fig.update_layout(title_text=\"The Elbow Method\")\n",
    "# fig.show(config=config)\n",
    "Image(pio.to_image(fig, format='png', width=1200))"
   ]
  },
  {
   "cell_type": "markdown",
   "metadata": {},
   "source": [
    "Inferring from our plots, we can see that cluster value of 4 would be optimal since there is no decrease in inertia or distortion."
   ]
  },
  {
   "cell_type": "code",
   "execution_count": null,
   "metadata": {},
   "outputs": [],
   "source": [
    "kmeans = KMeans(n_clusters=4, random_state=0).fit(data_normalized)\n",
    "user_engagement[\"Cluster\"]= kmeans.labels_\n",
    "user_engagement"
   ]
  },
  {
   "cell_type": "code",
   "execution_count": null,
   "metadata": {},
   "outputs": [],
   "source": [
    "# save the model\n",
    "import pickle\n",
    "with open(\"../models/User_engagement.pkl\", \"wb\") as f:\n",
    "    pickle.dump(kmeans, f)"
   ]
  },
  {
   "cell_type": "code",
   "execution_count": null,
   "metadata": {},
   "outputs": [],
   "source": [
    "\n",
    "user_engagement.to_csv('../data/user_engagement.csv')"
   ]
  }
 ],
 "metadata": {
  "language_info": {
   "name": "python"
  }
 },
 "nbformat": 4,
 "nbformat_minor": 2
}
