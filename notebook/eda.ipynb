{
 "cells": [
  {
   "cell_type": "code",
   "execution_count": 1,
   "metadata": {},
   "outputs": [
    {
     "data": {
      "text/plain": [
       "<module 'eda' from 'c:\\\\Users\\\\HP\\\\Desktop\\\\TenX\\\\user-overview-analysis\\\\scripts\\\\eda.py'>"
      ]
     },
     "execution_count": 1,
     "metadata": {},
     "output_type": "execute_result"
    }
   ],
   "source": [
    "import pandas as pd\n",
    "import sys\n",
    "import os\n",
    "sys.path.insert(0,os.path.abspath('../scripts'))\n",
    "import eda as eda\n",
    "import importlib\n",
    "importlib.reload(eda)\n",
    "\n"
   ]
  },
  {
   "cell_type": "code",
   "execution_count": 2,
   "metadata": {},
   "outputs": [],
   "source": [
    "file_name = '../data/Week2_challenge_data_source(CSV).csv'\n",
    "data = eda.read_csv(file_name)"
   ]
  },
  {
   "cell_type": "code",
   "execution_count": 3,
   "metadata": {},
   "outputs": [],
   "source": [
    "df_clean = eda.DataFrameCleaning(data)"
   ]
  },
  {
   "cell_type": "code",
   "execution_count": 4,
   "metadata": {},
   "outputs": [
    {
     "name": "stdout",
     "output_type": "stream",
     "text": [
      "List Of Columns with More than 30% Null Values\n",
      "['TCP DL Retrans. Vol (Bytes)', 'TCP UL Retrans. Vol (Bytes)', 'HTTP DL (Bytes)', 'HTTP UL (Bytes)', 'Nb of sec with 125000B < Vol DL', 'Nb of sec with 1250B < Vol UL < 6250B', 'Nb of sec with 31250B < Vol DL < 125000B', 'Nb of sec with 37500B < Vol UL', 'Nb of sec with 6250B < Vol DL < 31250B', 'Nb of sec with 6250B < Vol UL < 37500B']\n"
     ]
    }
   ],
   "source": [
    "bad_columns = df_clean.get_column_with_many_null()\n",
    "print(\"List Of Columns with More than 30% Null Values\")\n",
    "print(bad_columns)"
   ]
  },
  {
   "cell_type": "code",
   "execution_count": 5,
   "metadata": {},
   "outputs": [],
   "source": [
    "## Remove Bad columns\n",
    "df_clean.drop_columns(bad_columns)\n",
    "df_clean.drop_column('Dur. (ms).1')"
   ]
  },
  {
   "cell_type": "code",
   "execution_count": 6,
   "metadata": {},
   "outputs": [
    {
     "name": "stdout",
     "output_type": "stream",
     "text": [
      "Number Of Columns with More than 30% Null Values After Clean Up\n",
      "[]\n"
     ]
    }
   ],
   "source": [
    "bad_columns = df_clean.get_column_with_many_null()\n",
    "print(\"Number Of Columns with More than 30% Null Values After Clean Up\")\n",
    "print(bad_columns)"
   ]
  },
  {
   "cell_type": "code",
   "execution_count": 7,
   "metadata": {},
   "outputs": [],
   "source": [
    "df_clean.drop_rows(['Bearer Id', 'MSISDN/Number'])"
   ]
  },
  {
   "cell_type": "code",
   "execution_count": 8,
   "metadata": {},
   "outputs": [],
   "source": [
    "columns_object_type = ['Last Location Name', 'Handset Manufacturer', 'Handset Type']\n",
    "df_clean.fill_catagorical_columns(columns_object_type)"
   ]
  },
  {
   "cell_type": "code",
   "execution_count": 9,
   "metadata": {},
   "outputs": [],
   "source": [
    "all_columns = df_clean.df.columns\n",
    "df_clean.fill_catagorical_columns(all_columns)"
   ]
  },
  {
   "cell_type": "code",
   "execution_count": 10,
   "metadata": {},
   "outputs": [],
   "source": [
    "df_clean.fix_outliers('Dur. (ms)')"
   ]
  },
  {
   "cell_type": "code",
   "execution_count": 11,
   "metadata": {},
   "outputs": [],
   "source": [
    "#df_clean.save_clean()"
   ]
  }
 ],
 "metadata": {
  "language_info": {
   "name": "python"
  }
 },
 "nbformat": 4,
 "nbformat_minor": 2
}
